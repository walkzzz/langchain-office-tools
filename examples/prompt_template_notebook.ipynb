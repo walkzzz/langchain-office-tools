{
 "cells": [
  {
   "cell_type": "markdown",
   "metadata": {},
   "source": [
    "# 提示词模板使用示例\n",
    "\n",
    "本示例展示了如何使用LLMManager的提示词模板功能来简化常见任务的提示词构建。"
   ]
  },
  {
   "cell_type": "code",
   "execution_count": null,
   "metadata": {},
   "outputs": [],
   "source": [
    "import sys\n",
    "import os\n",
    "\n",
    "# 添加项目根目录到Python路径\n",
    "sys.path.append(os.path.dirname(os.path.dirname(os.path.abspath(''))))\n",
    "\n",
    "from src.core.llm import LLMManager"
   ]
  },
  {
   "cell_type": "code",
   "execution_count": null,
   "metadata": {},
   "outputs": [],
   "source": [
    "# 初始化LLM管理器\n",
    "llm = LLMManager(provider=\"openai\", model=\"gpt-4o-mini\")"
   ]
  },
  {
   "cell_type": "markdown",
   "metadata": {},
   "source": [
    "## 1. 加载提示词模板\n",
    "\n",
    "使用 `load_prompt_template` 方法加载预定义的提示词模板。"
   ]
  },
  {
   "cell_type": "code",
   "execution_count": null,
   "metadata": {},
   "outputs": [],
   "source": [
    "# 加载通用助手提示词模板\n",
    "general_template = llm.load_prompt_template(\"general_template\")\n",
    "print(\"通用助手提示词模板：\")\n",
    "print(general_template)"
   ]
  },
  {
   "cell_type": "markdown",
   "metadata": {},
   "source": [
    "## 2. 渲染提示词模板\n",
    "\n",
    "使用 `render_prompt_template` 方法渲染提示词模板，替换其中的占位符。"
   ]
  },
  {
   "cell_type": "code",
   "execution_count": null,
   "metadata": {},
   "outputs": [],
   "source": [
    "# 渲染通用助手提示词模板\n",
    "rendered_general = llm.render_prompt_template(\"general_template\", question=\"什么是人工智能？\")\n",
    "print(\"渲染后的通用助手提示词：\")\n",
    "print(rendered_general)"
   ]
  },
  {
   "cell_type": "markdown",
   "metadata": {},
   "source": [
    "## 3. 使用代码生成模板\n",
    "\n",
    "使用代码生成模板来创建编程任务的提示词。"
   ]
  },
  {
   "cell_type": "code",
   "execution_count": null,
   "metadata": {},
   "outputs": [],
   "source": [
    "# 加载代码生成提示词模板\n",
    "code_template = llm.load_prompt_template(\"code_generation_template\")\n",
    "print(\"代码生成提示词模板：\")\n",
    "print(code_template)"
   ]
  },
  {
   "cell_type": "code",
   "execution_count": null,
   "metadata": {},
   "outputs": [],
   "source": [
    "# 渲染代码生成提示词模板\n",
    "rendered_code = llm.render_prompt_template(\n",
    "    \"code_generation_template\", \n",
    "    requirement=\"编写一个Python函数，计算两个数的和\"\n",
    ")\n",
    "print(\"渲染后的代码生成提示词：\")\n",
    "print(rendered_code)"
   ]
  },
  {
   "cell_type": "markdown",
   "metadata": {},
   "source": [
    "## 4. 使用文档总结模板\n",
    "\n",
    "使用文档总结模板来创建文档分析任务的提示词。"
   ]
  },
  {
   "cell_type": "code",
   "execution_count": null,
   "metadata": {},
   "outputs": [],
   "source": [
    "# 加载文档总结提示词模板\n",
    "summary_template = llm.load_prompt_template(\"document_summary_template\")\n",
    "print(\"文档总结提示词模板：\")\n",
    "print(summary_template)"
   ]
  },
  {
   "cell_type": "code",
   "execution_count": null,
   "metadata": {},
   "outputs": [],
   "source": [
    "# 渲染文档总结提示词模板\n",
    "document_content = \"人工智能是计算机科学的一个分支，它企图了解智能的实质，并生产出一种新的能以人类智能相似的方式做出反应的智能机器。\"\n",
    "rendered_summary = llm.render_prompt_template(\n",
    "    \"document_summary_template\", \n",
    "    document_content=document_content\n",
    ")\n",
    "print(\"渲染后的文档总结提示词：\")\n",
    "print(rendered_summary)"
   ]
  },
  {
   "cell_type": "markdown",
   "metadata": {},
   "source": [
    "## 5. 实际应用示例\n",
    "\n",
    "使用渲染后的提示词调用模型生成响应。"
   ]
  },
  {
   "cell_type": "code",
   "execution_count": null,
   "metadata": {},
   "outputs": [],
   "source": [
    "# 使用渲染后的通用助手提示词调用模型\n",
    "messages = [\n",
    "    {\"role\": \"user\", \"content\": rendered_general}\n",
    "]\n",
    "\n",
    "try:\n",
    "    response = llm.chat_completion(messages, temperature=0.7, max_tokens=500)\n",
    "    print(\"模型响应：\")\n",
    "    print(response.choices[0].message.content)\n",
    "except Exception as e:\n",
    "    print(f\"调用模型时出错: {e}\")"
   ]
  },
  {
   "cell_type": "code",
   "execution_count": null,
   "metadata": {},
   "outputs": [],
   "source": [
    "# 使用渲染后的代码生成提示词调用模型\n",
    "messages = [\n",
    "    {\"role\": \"user\", \"content\": rendered_code}\n",
    "]\n",
    "\n",
    "try:\n",
    "    response = llm.chat_completion(messages, temperature=0.2, max_tokens=1000)\n",
    "    print(\"模型响应：\")\n",
    "    print(response.choices[0].message.content)\n",
    "except Exception as e:\n",
    "    print(f\"调用模型时出错: {e}\")"
   ]
  }
 ],
 "metadata": {
  "kernelspec": {
   "display_name": "Python 3",
   "language": "python",
   "name": "python3"
  },
  "language_info": {
   "codemirror_mode": {
    "name": "ipython",
    "version": 3
   },
   "file_extension": ".py",
   "mimetype": "text/x-python",
   "name": "python",
   "nbconvert_exporter": "python",
   "pygments_lexer": "ipython3",
   "version": "3.11.13"
  }
 },
 "nbformat": 4,
 "nbformat_minor": 4
}